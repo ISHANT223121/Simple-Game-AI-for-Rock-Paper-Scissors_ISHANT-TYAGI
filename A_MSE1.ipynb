{
  "nbformat": 4,
  "nbformat_minor": 0,
  "metadata": {
    "colab": {
      "provenance": []
    },
    "kernelspec": {
      "name": "python3",
      "display_name": "Python 3"
    },
    "language_info": {
      "name": "python"
    }
  },
  "cells": [
    {
      "cell_type": "code",
      "execution_count": 3,
      "metadata": {
        "colab": {
          "base_uri": "https://localhost:8080/"
        },
        "id": "hDy2O5gyhQie",
        "outputId": "0d67f3c3-15be-4d92-bb7d-5ad78483a461"
      },
      "outputs": [
        {
          "name": "stdout",
          "output_type": "stream",
          "text": [
            "Welcome to Rock-Paper-Scissors!\n",
            "Enter your choice (rock, paper, or scissors):\n",
            "rock\n",
            "AI chose: paper\n",
            "AI wins!\n",
            "\n",
            "Do you want to play again? (yes or no)\n",
            "no\n"
          ]
        }
      ],
      "source": [
        "import random  # Import the random module to allow the AI to make random choices\n",
        "\n",
        "def get_user_choice():\n",
        "    \"\"\"\n",
        "    Function to get the player's choice of 'rock', 'paper', or 'scissors'.\n",
        "    Ensures that the input is valid.\n",
        "    \"\"\"\n",
        "    print(\"Enter your choice (rock, paper, or scissors):\")\n",
        "    user_choice = input().lower()  # Get user input and convert it to lowercase for consistency\n",
        "    while user_choice not in ['rock', 'paper', 'scissors']:  # Validate the input\n",
        "        print(\"Invalid choice. Please enter rock, paper, or scissors:\")\n",
        "        user_choice = input().lower()  # Ask again if the input is invalid\n",
        "    return user_choice  # Return the user's valid choice\n",
        "\n",
        "def get_ai_choice():\n",
        "    \"\"\"\n",
        "    Function to generate a random choice for the AI ('rock', 'paper', or 'scissors').\n",
        "    \"\"\"\n",
        "    return random.choice(['rock', 'paper', 'scissors'])  # AI makes a random choice\n",
        "\n",
        "def determine_winner(user_choice, ai_choice):\n",
        "    \"\"\"\n",
        "    Function to determine the winner based on the rules of the game.\n",
        "    - Rock beats Scissors\n",
        "    - Scissors beats Paper\n",
        "    - Paper beats Rock\n",
        "    \"\"\"\n",
        "    if user_choice == ai_choice:  # If both choices are the same, it's a tie\n",
        "        return \"It's a tie!\"\n",
        "    elif (user_choice == 'rock' and ai_choice == 'scissors') or \\\n",
        "         (user_choice == 'scissors' and ai_choice == 'paper') or \\\n",
        "         (user_choice == 'paper' and ai_choice == 'rock'):  # Check if user wins\n",
        "        return \"You win!\"\n",
        "    else:  # If none of the above, AI wins\n",
        "        return \"AI wins!\"\n",
        "\n",
        "def play_game():\n",
        "    \"\"\"\n",
        "    Main function to play the Rock-Paper-Scissors game.\n",
        "    The game continues until the user chooses to stop.\n",
        "    \"\"\"\n",
        "    print(\"Welcome to Rock-Paper-Scissors!\")  # Greet the user\n",
        "    while True:  # Start the game loop\n",
        "        user_choice = get_user_choice()  # Get the user's choice\n",
        "        ai_choice = get_ai_choice()  # Get the AI's choice\n",
        "        print(f\"AI chose: {ai_choice}\")  # Display the AI's choice\n",
        "        print(determine_winner(user_choice, ai_choice))  # Print the result of the round\n",
        "\n",
        "        print(\"\\nDo you want to play again? (yes or no)\")  # Ask if the user wants to play again\n",
        "        play_again = input().lower()  # Get user input\n",
        "        if play_again != 'yes':  # If the user doesn't want to play again, break the loop\n",
        "            break\n",
        "\n",
        "if __name__ == \"__main__\":\n",
        "    play_game()  # Start the game when the script is run\n"
      ]
    }
  ]
}